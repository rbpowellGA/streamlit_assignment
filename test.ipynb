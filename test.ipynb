{
 "cells": [
  {
   "cell_type": "code",
   "execution_count": 1,
   "metadata": {},
   "outputs": [
    {
     "name": "stdout",
     "output_type": "stream",
     "text": [
      "model results: [0]\n",
      "{'cap-diameter': [50], 'stem-height': [20], 'stem-width': [30], 'has-ring': ['t'], 'cap-shape': ['c']}\n"
     ]
    },
    {
     "name": "stderr",
     "output_type": "stream",
     "text": [
      "2024-07-18 13:55:15.430 \n",
      "  \u001b[33m\u001b[1mWarning:\u001b[0m to view this Streamlit app on a browser, run it with the following\n",
      "  command:\n",
      "\n",
      "    streamlit run c:\\Users\\Blake\\anaconda3\\Lib\\site-packages\\ipykernel_launcher.py [ARGUMENTS]\n"
     ]
    }
   ],
   "source": [
    "import streamlit as st\n",
    "import pandas as pd\n",
    "from src.mushroom_model import predict_mushroom\n",
    "\n",
    "observation = {\n",
    "    'cap-diameter': [50],\n",
    "    'stem-height': [20],\n",
    "    'stem-width': [30],\n",
    "    'has-ring': ['t'],\n",
    "    'cap-shape': ['c']\n",
    "}\n",
    "\n",
    "single_obs_df = pd.DataFrame(observation)\n",
    "\n",
    "\n",
    "\n",
    "current_prediction = predict_mushroom(single_obs_df)\n",
    "\n",
    "print(f\"model results: {current_prediction}\")\n",
    "print(observation)\n",
    "\n",
    "if current_prediction == 0:\n",
    "    st.markdown('### 🍄🍄🍄 Mushroom is not poisonous')\n",
    "else:\n",
    "    st.markdown('###💀💀💀💀💀💀💀💀💀💀💀💀💀💀💀💀')\n"
   ]
  }
 ],
 "metadata": {
  "kernelspec": {
   "display_name": "base",
   "language": "python",
   "name": "python3"
  },
  "language_info": {
   "codemirror_mode": {
    "name": "ipython",
    "version": 3
   },
   "file_extension": ".py",
   "mimetype": "text/x-python",
   "name": "python",
   "nbconvert_exporter": "python",
   "pygments_lexer": "ipython3",
   "version": "3.11.7"
  }
 },
 "nbformat": 4,
 "nbformat_minor": 2
}
